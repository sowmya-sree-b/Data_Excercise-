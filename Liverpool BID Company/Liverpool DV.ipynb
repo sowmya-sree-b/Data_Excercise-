{
 "cells": [
  {
   "cell_type": "code",
   "execution_count": 1,
   "id": "3673bc77",
   "metadata": {},
   "outputs": [],
   "source": [
    "#needed libraries and importing \n",
    "import pandas as pd\n",
    "import altair as alt\n",
    "import numpy as np\n",
    "import matplotlib \n",
    "import matplotlib.pyplot as plt\n",
    "import seaborn as sns \n",
    "%matplotlib inline"
   ]
  },
  {
   "cell_type": "code",
   "execution_count": 2,
   "id": "42b8ed82",
   "metadata": {},
   "outputs": [],
   "source": [
    "#reading file \n",
    "df_xlsx = pd.ExcelFile(\"Exercise Data Sept 2022.xlsx\")"
   ]
  },
  {
   "cell_type": "code",
   "execution_count": 3,
   "id": "b927bde9",
   "metadata": {},
   "outputs": [
    {
     "data": {
      "text/html": [
       "<div>\n",
       "<style scoped>\n",
       "    .dataframe tbody tr th:only-of-type {\n",
       "        vertical-align: middle;\n",
       "    }\n",
       "\n",
       "    .dataframe tbody tr th {\n",
       "        vertical-align: top;\n",
       "    }\n",
       "\n",
       "    .dataframe thead th {\n",
       "        text-align: right;\n",
       "    }\n",
       "</style>\n",
       "<table border=\"1\" class=\"dataframe\">\n",
       "  <thead>\n",
       "    <tr style=\"text-align: right;\">\n",
       "      <th></th>\n",
       "      <th>Ref</th>\n",
       "      <th>Name of Business</th>\n",
       "      <th>In a BID already?</th>\n",
       "      <th>Voting Intention</th>\n",
       "      <th>OCCUPIER</th>\n",
       "      <th>STREET</th>\n",
       "      <th>PROP_DESC</th>\n",
       "      <th>RV</th>\n",
       "      <th>Primary Contact</th>\n",
       "      <th>Primary Contact email</th>\n",
       "      <th>Secondary Contact</th>\n",
       "      <th>Secondary Contact email</th>\n",
       "    </tr>\n",
       "  </thead>\n",
       "  <tbody>\n",
       "    <tr>\n",
       "      <th>0</th>\n",
       "      <td>1</td>\n",
       "      <td>Hotel 1</td>\n",
       "      <td>No</td>\n",
       "      <td>Yes</td>\n",
       "      <td>ABILITY HOTELS (LIVEPOOL) LTD</td>\n",
       "      <td>THOMAS STEERS WAY</td>\n",
       "      <td>Hotel &amp; Premises</td>\n",
       "      <td>1380000</td>\n",
       "      <td>George</td>\n",
       "      <td>yes</td>\n",
       "      <td>NaN</td>\n",
       "      <td>NaN</td>\n",
       "    </tr>\n",
       "    <tr>\n",
       "      <th>1</th>\n",
       "      <td>2</td>\n",
       "      <td>Hotel 2</td>\n",
       "      <td>C&amp;C</td>\n",
       "      <td>Yes</td>\n",
       "      <td>ACC LIVERPOOL HOTEL LIMITED</td>\n",
       "      <td>MONARCHS QUAY</td>\n",
       "      <td>Hotel &amp; Premises</td>\n",
       "      <td>750000</td>\n",
       "      <td>Neil</td>\n",
       "      <td>yes</td>\n",
       "      <td>Gemma</td>\n",
       "      <td>yes</td>\n",
       "    </tr>\n",
       "    <tr>\n",
       "      <th>2</th>\n",
       "      <td>3</td>\n",
       "      <td>Hotel 3</td>\n",
       "      <td>C&amp;C</td>\n",
       "      <td>Unknown</td>\n",
       "      <td>CENTRE ISLAND DEVELOPMENTS CO LTD</td>\n",
       "      <td>PRINCES DOCK (DLO)</td>\n",
       "      <td>Hotel &amp; Premises</td>\n",
       "      <td>735000</td>\n",
       "      <td>David</td>\n",
       "      <td>yes</td>\n",
       "      <td>Chris</td>\n",
       "      <td>yes</td>\n",
       "    </tr>\n",
       "    <tr>\n",
       "      <th>3</th>\n",
       "      <td>4</td>\n",
       "      <td>Hotel 4</td>\n",
       "      <td>No</td>\n",
       "      <td>Unknown</td>\n",
       "      <td>STANLEY DOCK HOTEL LIMITED</td>\n",
       "      <td>REGENT ROAD</td>\n",
       "      <td>Hotel &amp; Premises</td>\n",
       "      <td>730000</td>\n",
       "      <td>Darren</td>\n",
       "      <td>yes</td>\n",
       "      <td>NaN</td>\n",
       "      <td>NaN</td>\n",
       "    </tr>\n",
       "    <tr>\n",
       "      <th>4</th>\n",
       "      <td>5</td>\n",
       "      <td>Hotel 5</td>\n",
       "      <td>C&amp;C</td>\n",
       "      <td>Unknown</td>\n",
       "      <td>JURYS INN (UK) LTD</td>\n",
       "      <td>KEEL WHARF</td>\n",
       "      <td>Hotel &amp; Premises</td>\n",
       "      <td>727000</td>\n",
       "      <td>James</td>\n",
       "      <td>yes</td>\n",
       "      <td>Hannah</td>\n",
       "      <td>yes</td>\n",
       "    </tr>\n",
       "  </tbody>\n",
       "</table>\n",
       "</div>"
      ],
      "text/plain": [
       "   Ref Name of Business In a BID already? Voting Intention  \\\n",
       "0    1          Hotel 1                No              Yes   \n",
       "1    2          Hotel 2               C&C              Yes   \n",
       "2    3          Hotel 3               C&C          Unknown   \n",
       "3    4          Hotel 4                No          Unknown   \n",
       "4    5          Hotel 5               C&C          Unknown   \n",
       "\n",
       "                            OCCUPIER              STREET         PROP_DESC  \\\n",
       "0      ABILITY HOTELS (LIVEPOOL) LTD   THOMAS STEERS WAY  Hotel & Premises   \n",
       "1        ACC LIVERPOOL HOTEL LIMITED       MONARCHS QUAY  Hotel & Premises   \n",
       "2  CENTRE ISLAND DEVELOPMENTS CO LTD  PRINCES DOCK (DLO)  Hotel & Premises   \n",
       "3         STANLEY DOCK HOTEL LIMITED         REGENT ROAD  Hotel & Premises   \n",
       "4                 JURYS INN (UK) LTD          KEEL WHARF  Hotel & Premises   \n",
       "\n",
       "        RV Primary Contact Primary Contact email Secondary Contact  \\\n",
       "0  1380000          George                   yes               NaN   \n",
       "1   750000            Neil                   yes             Gemma   \n",
       "2   735000           David                   yes             Chris   \n",
       "3   730000         Darren                    yes               NaN   \n",
       "4   727000           James                   yes            Hannah   \n",
       "\n",
       "  Secondary Contact email  \n",
       "0                     NaN  \n",
       "1                     yes  \n",
       "2                     yes  \n",
       "3                     NaN  \n",
       "4                     yes  "
      ]
     },
     "execution_count": 3,
     "metadata": {},
     "output_type": "execute_result"
    }
   ],
   "source": [
    "df_old = pd.read_excel(df_xlsx)\n",
    "df_old.head()"
   ]
  },
  {
   "cell_type": "code",
   "execution_count": 4,
   "id": "38a4e840",
   "metadata": {},
   "outputs": [
    {
     "name": "stdout",
     "output_type": "stream",
     "text": [
      "Types of responses :  ['Yes' 'Unknown' 'No' 'no'] \n",
      "Count of each responses :  Unknown    52\n",
      "No         18\n",
      "Yes         9\n",
      "no          5\n",
      "Name: Voting Intention, dtype: int64\n"
     ]
    }
   ],
   "source": [
    "#data profiling\n",
    "voting_list = df_old['Voting Intention'].unique()\n",
    "\n",
    "voting_list_value = df_old['Voting Intention'].value_counts()\n",
    "print(\"Types of responses : \" , voting_list, \"\\nCount of each responses : \" , voting_list_value)\n"
   ]
  },
  {
   "cell_type": "code",
   "execution_count": 5,
   "id": "e96b51db",
   "metadata": {},
   "outputs": [
    {
     "data": {
      "text/html": [
       "<div>\n",
       "<style scoped>\n",
       "    .dataframe tbody tr th:only-of-type {\n",
       "        vertical-align: middle;\n",
       "    }\n",
       "\n",
       "    .dataframe tbody tr th {\n",
       "        vertical-align: top;\n",
       "    }\n",
       "\n",
       "    .dataframe thead th {\n",
       "        text-align: right;\n",
       "    }\n",
       "</style>\n",
       "<table border=\"1\" class=\"dataframe\">\n",
       "  <thead>\n",
       "    <tr style=\"text-align: right;\">\n",
       "      <th></th>\n",
       "      <th>Ref</th>\n",
       "      <th>Name of Business</th>\n",
       "      <th>In a BID already?</th>\n",
       "      <th>Voting Intention</th>\n",
       "      <th>OCCUPIER</th>\n",
       "      <th>STREET</th>\n",
       "      <th>PROP_DESC</th>\n",
       "      <th>RV</th>\n",
       "      <th>Primary Contact</th>\n",
       "      <th>Primary Contact email</th>\n",
       "      <th>Secondary Contact</th>\n",
       "      <th>Secondary Contact email</th>\n",
       "    </tr>\n",
       "  </thead>\n",
       "  <tbody>\n",
       "    <tr>\n",
       "      <th>0</th>\n",
       "      <td>1</td>\n",
       "      <td>Hotel 1</td>\n",
       "      <td>No</td>\n",
       "      <td>Yes</td>\n",
       "      <td>ABILITY HOTELS (LIVEPOOL) LTD</td>\n",
       "      <td>THOMAS STEERS WAY</td>\n",
       "      <td>Hotel &amp; Premises</td>\n",
       "      <td>1380000</td>\n",
       "      <td>George</td>\n",
       "      <td>yes</td>\n",
       "      <td>NaN</td>\n",
       "      <td>NaN</td>\n",
       "    </tr>\n",
       "    <tr>\n",
       "      <th>1</th>\n",
       "      <td>2</td>\n",
       "      <td>Hotel 2</td>\n",
       "      <td>C&amp;C</td>\n",
       "      <td>Yes</td>\n",
       "      <td>ACC LIVERPOOL HOTEL LIMITED</td>\n",
       "      <td>MONARCHS QUAY</td>\n",
       "      <td>Hotel &amp; Premises</td>\n",
       "      <td>750000</td>\n",
       "      <td>Neil</td>\n",
       "      <td>yes</td>\n",
       "      <td>Gemma</td>\n",
       "      <td>yes</td>\n",
       "    </tr>\n",
       "    <tr>\n",
       "      <th>2</th>\n",
       "      <td>3</td>\n",
       "      <td>Hotel 3</td>\n",
       "      <td>C&amp;C</td>\n",
       "      <td>Unknown</td>\n",
       "      <td>CENTRE ISLAND DEVELOPMENTS CO LTD</td>\n",
       "      <td>PRINCES DOCK (DLO)</td>\n",
       "      <td>Hotel &amp; Premises</td>\n",
       "      <td>735000</td>\n",
       "      <td>David</td>\n",
       "      <td>yes</td>\n",
       "      <td>Chris</td>\n",
       "      <td>yes</td>\n",
       "    </tr>\n",
       "    <tr>\n",
       "      <th>3</th>\n",
       "      <td>4</td>\n",
       "      <td>Hotel 4</td>\n",
       "      <td>No</td>\n",
       "      <td>Unknown</td>\n",
       "      <td>STANLEY DOCK HOTEL LIMITED</td>\n",
       "      <td>REGENT ROAD</td>\n",
       "      <td>Hotel &amp; Premises</td>\n",
       "      <td>730000</td>\n",
       "      <td>Darren</td>\n",
       "      <td>yes</td>\n",
       "      <td>NaN</td>\n",
       "      <td>NaN</td>\n",
       "    </tr>\n",
       "    <tr>\n",
       "      <th>4</th>\n",
       "      <td>5</td>\n",
       "      <td>Hotel 5</td>\n",
       "      <td>C&amp;C</td>\n",
       "      <td>Unknown</td>\n",
       "      <td>JURYS INN (UK) LTD</td>\n",
       "      <td>KEEL WHARF</td>\n",
       "      <td>Hotel &amp; Premises</td>\n",
       "      <td>727000</td>\n",
       "      <td>James</td>\n",
       "      <td>yes</td>\n",
       "      <td>Hannah</td>\n",
       "      <td>yes</td>\n",
       "    </tr>\n",
       "  </tbody>\n",
       "</table>\n",
       "</div>"
      ],
      "text/plain": [
       "   Ref Name of Business In a BID already? Voting Intention  \\\n",
       "0    1          Hotel 1                No              Yes   \n",
       "1    2          Hotel 2               C&C              Yes   \n",
       "2    3          Hotel 3               C&C          Unknown   \n",
       "3    4          Hotel 4                No          Unknown   \n",
       "4    5          Hotel 5               C&C          Unknown   \n",
       "\n",
       "                            OCCUPIER              STREET         PROP_DESC  \\\n",
       "0      ABILITY HOTELS (LIVEPOOL) LTD   THOMAS STEERS WAY  Hotel & Premises   \n",
       "1        ACC LIVERPOOL HOTEL LIMITED       MONARCHS QUAY  Hotel & Premises   \n",
       "2  CENTRE ISLAND DEVELOPMENTS CO LTD  PRINCES DOCK (DLO)  Hotel & Premises   \n",
       "3         STANLEY DOCK HOTEL LIMITED         REGENT ROAD  Hotel & Premises   \n",
       "4                 JURYS INN (UK) LTD          KEEL WHARF  Hotel & Premises   \n",
       "\n",
       "        RV Primary Contact Primary Contact email Secondary Contact  \\\n",
       "0  1380000          George                   yes               NaN   \n",
       "1   750000            Neil                   yes             Gemma   \n",
       "2   735000           David                   yes             Chris   \n",
       "3   730000         Darren                    yes               NaN   \n",
       "4   727000           James                   yes            Hannah   \n",
       "\n",
       "  Secondary Contact email  \n",
       "0                     NaN  \n",
       "1                     yes  \n",
       "2                     yes  \n",
       "3                     NaN  \n",
       "4                     yes  "
      ]
     },
     "execution_count": 5,
     "metadata": {},
     "output_type": "execute_result"
    }
   ],
   "source": [
    "df_old['Voting Intention'] = df_old['Voting Intention'].map({'no':'No',\n",
    "                                                            'No':'No',\n",
    "                                                            'Yes':'Yes',\n",
    "                                                            'Unknown':'Unknown'},na_action=None)\n",
    "\n",
    "df_old.head()"
   ]
  },
  {
   "cell_type": "code",
   "execution_count": 6,
   "id": "26b9501a",
   "metadata": {},
   "outputs": [],
   "source": [
    "df_old['In a BID already?'] = df_old['In a BID already?'].map({'no':'No',\n",
    "                                                               'No':'No',\n",
    "                                                            'C&C':'C&C',\n",
    "                                                            'R&L':'R&L',\n",
    "                                                            },na_action=None)"
   ]
  },
  {
   "cell_type": "code",
   "execution_count": 7,
   "id": "74b0b8bf",
   "metadata": {},
   "outputs": [
    {
     "name": "stdout",
     "output_type": "stream",
     "text": [
      "Types of responses :  ['Yes' 'Unknown' 'No'] \n",
      "Count of each responses :  Unknown    52\n",
      "No         23\n",
      "Yes         9\n",
      "Name: Voting Intention, dtype: int64\n"
     ]
    }
   ],
   "source": [
    "voting_list = df_old['Voting Intention'].unique()\n",
    "voting_list\n",
    "voting_list_value = df_old['Voting Intention'].value_counts()\n",
    "print(\"Types of responses : \" , voting_list, \"\\nCount of each responses : \" , voting_list_value)\n"
   ]
  },
  {
   "cell_type": "code",
   "execution_count": 8,
   "id": "681fc2d2",
   "metadata": {},
   "outputs": [
    {
     "name": "stdout",
     "output_type": "stream",
     "text": [
      "Types of responses :  ['No' 'C&C' 'R&L'] \n",
      "Count of each responses :  C&C    39\n",
      "No     36\n",
      "R&L     9\n",
      "Name: In a BID already?, dtype: int64\n"
     ]
    },
    {
     "data": {
      "text/html": [
       "<div>\n",
       "<style scoped>\n",
       "    .dataframe tbody tr th:only-of-type {\n",
       "        vertical-align: middle;\n",
       "    }\n",
       "\n",
       "    .dataframe tbody tr th {\n",
       "        vertical-align: top;\n",
       "    }\n",
       "\n",
       "    .dataframe thead th {\n",
       "        text-align: right;\n",
       "    }\n",
       "</style>\n",
       "<table border=\"1\" class=\"dataframe\">\n",
       "  <thead>\n",
       "    <tr style=\"text-align: right;\">\n",
       "      <th></th>\n",
       "      <th>Ref</th>\n",
       "      <th>Name of Business</th>\n",
       "      <th>In a BID already?</th>\n",
       "      <th>Voting Intention</th>\n",
       "      <th>OCCUPIER</th>\n",
       "      <th>STREET</th>\n",
       "      <th>PROP_DESC</th>\n",
       "      <th>RV</th>\n",
       "      <th>Primary Contact</th>\n",
       "      <th>Primary Contact email</th>\n",
       "      <th>Secondary Contact</th>\n",
       "      <th>Secondary Contact email</th>\n",
       "    </tr>\n",
       "  </thead>\n",
       "  <tbody>\n",
       "    <tr>\n",
       "      <th>0</th>\n",
       "      <td>1</td>\n",
       "      <td>Hotel 1</td>\n",
       "      <td>No</td>\n",
       "      <td>Yes</td>\n",
       "      <td>ABILITY HOTELS (LIVEPOOL) LTD</td>\n",
       "      <td>THOMAS STEERS WAY</td>\n",
       "      <td>Hotel &amp; Premises</td>\n",
       "      <td>1380000</td>\n",
       "      <td>George</td>\n",
       "      <td>yes</td>\n",
       "      <td>NaN</td>\n",
       "      <td>NaN</td>\n",
       "    </tr>\n",
       "    <tr>\n",
       "      <th>1</th>\n",
       "      <td>2</td>\n",
       "      <td>Hotel 2</td>\n",
       "      <td>C&amp;C</td>\n",
       "      <td>Yes</td>\n",
       "      <td>ACC LIVERPOOL HOTEL LIMITED</td>\n",
       "      <td>MONARCHS QUAY</td>\n",
       "      <td>Hotel &amp; Premises</td>\n",
       "      <td>750000</td>\n",
       "      <td>Neil</td>\n",
       "      <td>yes</td>\n",
       "      <td>Gemma</td>\n",
       "      <td>yes</td>\n",
       "    </tr>\n",
       "    <tr>\n",
       "      <th>2</th>\n",
       "      <td>3</td>\n",
       "      <td>Hotel 3</td>\n",
       "      <td>C&amp;C</td>\n",
       "      <td>Unknown</td>\n",
       "      <td>CENTRE ISLAND DEVELOPMENTS CO LTD</td>\n",
       "      <td>PRINCES DOCK (DLO)</td>\n",
       "      <td>Hotel &amp; Premises</td>\n",
       "      <td>735000</td>\n",
       "      <td>David</td>\n",
       "      <td>yes</td>\n",
       "      <td>Chris</td>\n",
       "      <td>yes</td>\n",
       "    </tr>\n",
       "    <tr>\n",
       "      <th>3</th>\n",
       "      <td>4</td>\n",
       "      <td>Hotel 4</td>\n",
       "      <td>No</td>\n",
       "      <td>Unknown</td>\n",
       "      <td>STANLEY DOCK HOTEL LIMITED</td>\n",
       "      <td>REGENT ROAD</td>\n",
       "      <td>Hotel &amp; Premises</td>\n",
       "      <td>730000</td>\n",
       "      <td>Darren</td>\n",
       "      <td>yes</td>\n",
       "      <td>NaN</td>\n",
       "      <td>NaN</td>\n",
       "    </tr>\n",
       "    <tr>\n",
       "      <th>4</th>\n",
       "      <td>5</td>\n",
       "      <td>Hotel 5</td>\n",
       "      <td>C&amp;C</td>\n",
       "      <td>Unknown</td>\n",
       "      <td>JURYS INN (UK) LTD</td>\n",
       "      <td>KEEL WHARF</td>\n",
       "      <td>Hotel &amp; Premises</td>\n",
       "      <td>727000</td>\n",
       "      <td>James</td>\n",
       "      <td>yes</td>\n",
       "      <td>Hannah</td>\n",
       "      <td>yes</td>\n",
       "    </tr>\n",
       "  </tbody>\n",
       "</table>\n",
       "</div>"
      ],
      "text/plain": [
       "   Ref Name of Business In a BID already? Voting Intention  \\\n",
       "0    1          Hotel 1                No              Yes   \n",
       "1    2          Hotel 2               C&C              Yes   \n",
       "2    3          Hotel 3               C&C          Unknown   \n",
       "3    4          Hotel 4                No          Unknown   \n",
       "4    5          Hotel 5               C&C          Unknown   \n",
       "\n",
       "                            OCCUPIER              STREET         PROP_DESC  \\\n",
       "0      ABILITY HOTELS (LIVEPOOL) LTD   THOMAS STEERS WAY  Hotel & Premises   \n",
       "1        ACC LIVERPOOL HOTEL LIMITED       MONARCHS QUAY  Hotel & Premises   \n",
       "2  CENTRE ISLAND DEVELOPMENTS CO LTD  PRINCES DOCK (DLO)  Hotel & Premises   \n",
       "3         STANLEY DOCK HOTEL LIMITED         REGENT ROAD  Hotel & Premises   \n",
       "4                 JURYS INN (UK) LTD          KEEL WHARF  Hotel & Premises   \n",
       "\n",
       "        RV Primary Contact Primary Contact email Secondary Contact  \\\n",
       "0  1380000          George                   yes               NaN   \n",
       "1   750000            Neil                   yes             Gemma   \n",
       "2   735000           David                   yes             Chris   \n",
       "3   730000         Darren                    yes               NaN   \n",
       "4   727000           James                   yes            Hannah   \n",
       "\n",
       "  Secondary Contact email  \n",
       "0                     NaN  \n",
       "1                     yes  \n",
       "2                     yes  \n",
       "3                     NaN  \n",
       "4                     yes  "
      ]
     },
     "execution_count": 8,
     "metadata": {},
     "output_type": "execute_result"
    }
   ],
   "source": [
    "cat_list = df_old['In a BID already?'].unique()\n",
    "cat_list_value = df_old['In a BID already?'].value_counts()\n",
    "print(\"Types of responses : \" , cat_list , \"\\nCount of each responses : \" , cat_list_value)\n",
    "df_old.head()"
   ]
  },
  {
   "cell_type": "code",
   "execution_count": 9,
   "id": "12d5d3d3",
   "metadata": {},
   "outputs": [
    {
     "data": {
      "text/plain": [
       "Unknown    52\n",
       "No         23\n",
       "Yes         9\n",
       "Name: Voting Intention, dtype: int64"
      ]
     },
     "execution_count": 9,
     "metadata": {},
     "output_type": "execute_result"
    }
   ],
   "source": [
    "voting_list_value\n"
   ]
  },
  {
   "cell_type": "code",
   "execution_count": 10,
   "id": "2d3a82e4",
   "metadata": {},
   "outputs": [],
   "source": [
    "#renaming column for better usage\n",
    "df_old = df_old.rename(columns = {'Voting Intention':'Voting_Intention'})"
   ]
  },
  {
   "cell_type": "code",
   "execution_count": 11,
   "id": "8c8881f7",
   "metadata": {},
   "outputs": [
    {
     "data": {
      "text/html": [
       "\n",
       "<div id=\"altair-viz-4a0e4fa34e664a679aa1161ec070bfe8\"></div>\n",
       "<script type=\"text/javascript\">\n",
       "  var VEGA_DEBUG = (typeof VEGA_DEBUG == \"undefined\") ? {} : VEGA_DEBUG;\n",
       "  (function(spec, embedOpt){\n",
       "    let outputDiv = document.currentScript.previousElementSibling;\n",
       "    if (outputDiv.id !== \"altair-viz-4a0e4fa34e664a679aa1161ec070bfe8\") {\n",
       "      outputDiv = document.getElementById(\"altair-viz-4a0e4fa34e664a679aa1161ec070bfe8\");\n",
       "    }\n",
       "    const paths = {\n",
       "      \"vega\": \"https://cdn.jsdelivr.net/npm//vega@5?noext\",\n",
       "      \"vega-lib\": \"https://cdn.jsdelivr.net/npm//vega-lib?noext\",\n",
       "      \"vega-lite\": \"https://cdn.jsdelivr.net/npm//vega-lite@4.17.0?noext\",\n",
       "      \"vega-embed\": \"https://cdn.jsdelivr.net/npm//vega-embed@6?noext\",\n",
       "    };\n",
       "\n",
       "    function maybeLoadScript(lib, version) {\n",
       "      var key = `${lib.replace(\"-\", \"\")}_version`;\n",
       "      return (VEGA_DEBUG[key] == version) ?\n",
       "        Promise.resolve(paths[lib]) :\n",
       "        new Promise(function(resolve, reject) {\n",
       "          var s = document.createElement('script');\n",
       "          document.getElementsByTagName(\"head\")[0].appendChild(s);\n",
       "          s.async = true;\n",
       "          s.onload = () => {\n",
       "            VEGA_DEBUG[key] = version;\n",
       "            return resolve(paths[lib]);\n",
       "          };\n",
       "          s.onerror = () => reject(`Error loading script: ${paths[lib]}`);\n",
       "          s.src = paths[lib];\n",
       "        });\n",
       "    }\n",
       "\n",
       "    function showError(err) {\n",
       "      outputDiv.innerHTML = `<div class=\"error\" style=\"color:red;\">${err}</div>`;\n",
       "      throw err;\n",
       "    }\n",
       "\n",
       "    function displayChart(vegaEmbed) {\n",
       "      vegaEmbed(outputDiv, spec, embedOpt)\n",
       "        .catch(err => showError(`Javascript Error: ${err.message}<br>This usually means there's a typo in your chart specification. See the javascript console for the full traceback.`));\n",
       "    }\n",
       "\n",
       "    if(typeof define === \"function\" && define.amd) {\n",
       "      requirejs.config({paths});\n",
       "      require([\"vega-embed\"], displayChart, err => showError(`Error loading script: ${err.message}`));\n",
       "    } else {\n",
       "      maybeLoadScript(\"vega\", \"5\")\n",
       "        .then(() => maybeLoadScript(\"vega-lite\", \"4.17.0\"))\n",
       "        .then(() => maybeLoadScript(\"vega-embed\", \"6\"))\n",
       "        .catch(showError)\n",
       "        .then(() => displayChart(vegaEmbed));\n",
       "    }\n",
       "  })({\"config\": {\"view\": {\"continuousWidth\": 400, \"continuousHeight\": 300}}, \"data\": {\"name\": \"data-c0d360a8a64a6c7cd3f43dd6f405caf1\"}, \"mark\": {\"type\": \"arc\", \"innerRadius\": 50}, \"encoding\": {\"color\": {\"field\": \"category\", \"type\": \"nominal\"}, \"theta\": {\"field\": \"value\", \"type\": \"quantitative\"}}, \"$schema\": \"https://vega.github.io/schema/vega-lite/v4.17.0.json\", \"datasets\": {\"data-c0d360a8a64a6c7cd3f43dd6f405caf1\": [{\"category\": \"Unknown\", \"value\": 52}, {\"category\": \"No\", \"value\": 23}, {\"category\": \"Yes\", \"value\": 9}]}}, {\"mode\": \"vega-lite\"});\n",
       "</script>"
      ],
      "text/plain": [
       "alt.Chart(...)"
      ]
     },
     "execution_count": 11,
     "metadata": {},
     "output_type": "execute_result"
    }
   ],
   "source": [
    "#data visualization one\n",
    "chart1 = pd.DataFrame({\"category\":voting_list_value.index , \"value\": voting_list_value})\n",
    "\n",
    "alt.Chart(chart1).mark_arc(innerRadius=50).encode(\n",
    "    theta=alt.Theta(field=\"value\", type=\"quantitative\"),\n",
    "    color=alt.Color(field=\"category\", type=\"nominal\"),\n",
    ")"
   ]
  },
  {
   "cell_type": "code",
   "execution_count": 12,
   "id": "0078e0dc",
   "metadata": {},
   "outputs": [
    {
     "data": {
      "image/png": "[encoded data removed]",
      "text/plain": [
       "<Figure size 432x288 with 1 Axes>"
      ]
     },
     "metadata": {
      "needs_background": "light"
     },
     "output_type": "display_data"
    }
   ],
   "source": [
    "#data visualization two\n",
    "x = df_old.Voting_Intention.value_counts()\n",
    "bp = plt.bar(x.index, x, width = 0.5, bottom = None, color = ('grey','red', 'green'))\n",
    "\n",
    "\n",
    "plt.show()"
   ]
  },
  {
   "cell_type": "code",
   "execution_count": 13,
   "id": "0ab9f0d6",
   "metadata": {},
   "outputs": [
    {
     "data": {
      "text/plain": [
       "<AxesSubplot:xlabel='Voting_Intention', ylabel='Count'>"
      ]
     },
     "execution_count": 13,
     "metadata": {},
     "output_type": "execute_result"
    },
    {
     "data": {
      "image/png": "[encoded data removed]",
      "text/plain": [
       "<Figure size 432x288 with 1 Axes>"
      ]
     },
     "metadata": {
      "needs_background": "light"
     },
     "output_type": "display_data"
    }
   ],
   "source": [
    "#data visualization three\n",
    "sns.histplot(binwidth=0.5, x=\"Voting_Intention\", hue=\"In a BID already?\", data=df_old, stat=\"count\", multiple=\"stack\")"
   ]
  },
  {
   "cell_type": "code",
   "execution_count": 14,
   "id": "7f08ec39",
   "metadata": {},
   "outputs": [
    {
     "data": {
      "text/plain": [
       "22014250"
      ]
     },
     "execution_count": 14,
     "metadata": {},
     "output_type": "execute_result"
    }
   ],
   "source": [
    "#statistics\n",
    "total_rv = df_old['RV'].sum()\n",
    "total_rv"
   ]
  },
  {
   "cell_type": "code",
   "execution_count": 15,
   "id": "0d394df4",
   "metadata": {},
   "outputs": [
    {
     "data": {
      "text/html": [
       "<div>\n",
       "<style scoped>\n",
       "    .dataframe tbody tr th:only-of-type {\n",
       "        vertical-align: middle;\n",
       "    }\n",
       "\n",
       "    .dataframe tbody tr th {\n",
       "        vertical-align: top;\n",
       "    }\n",
       "\n",
       "    .dataframe thead th {\n",
       "        text-align: right;\n",
       "    }\n",
       "</style>\n",
       "<table border=\"1\" class=\"dataframe\">\n",
       "  <thead>\n",
       "    <tr style=\"text-align: right;\">\n",
       "      <th></th>\n",
       "      <th>RV</th>\n",
       "      <th>In a BID already?</th>\n",
       "    </tr>\n",
       "  </thead>\n",
       "  <tbody>\n",
       "    <tr>\n",
       "      <th>0</th>\n",
       "      <td>1380000</td>\n",
       "      <td>No</td>\n",
       "    </tr>\n",
       "    <tr>\n",
       "      <th>1</th>\n",
       "      <td>750000</td>\n",
       "      <td>C&amp;C</td>\n",
       "    </tr>\n",
       "    <tr>\n",
       "      <th>2</th>\n",
       "      <td>735000</td>\n",
       "      <td>C&amp;C</td>\n",
       "    </tr>\n",
       "    <tr>\n",
       "      <th>3</th>\n",
       "      <td>730000</td>\n",
       "      <td>No</td>\n",
       "    </tr>\n",
       "    <tr>\n",
       "      <th>4</th>\n",
       "      <td>727000</td>\n",
       "      <td>C&amp;C</td>\n",
       "    </tr>\n",
       "  </tbody>\n",
       "</table>\n",
       "</div>"
      ],
      "text/plain": [
       "        RV In a BID already?\n",
       "0  1380000                No\n",
       "1   750000               C&C\n",
       "2   735000               C&C\n",
       "3   730000                No\n",
       "4   727000               C&C"
      ]
     },
     "execution_count": 15,
     "metadata": {},
     "output_type": "execute_result"
    }
   ],
   "source": [
    "#new df for other visualisations \n",
    "df_rv = df_old.filter(['RV','In a BID already?'], axis = 1)\n",
    "df_rv.head()\n"
   ]
  },
  {
   "cell_type": "code",
   "execution_count": 16,
   "id": "8e3069fe",
   "metadata": {},
   "outputs": [
    {
     "data": {
      "text/html": [
       "<div>\n",
       "<style scoped>\n",
       "    .dataframe tbody tr th:only-of-type {\n",
       "        vertical-align: middle;\n",
       "    }\n",
       "\n",
       "    .dataframe tbody tr th {\n",
       "        vertical-align: top;\n",
       "    }\n",
       "\n",
       "    .dataframe thead th {\n",
       "        text-align: right;\n",
       "    }\n",
       "</style>\n",
       "<table border=\"1\" class=\"dataframe\">\n",
       "  <thead>\n",
       "    <tr style=\"text-align: right;\">\n",
       "      <th></th>\n",
       "      <th>RV</th>\n",
       "      <th>In a BID already?</th>\n",
       "      <th>Step1</th>\n",
       "      <th>step2</th>\n",
       "      <th>step3</th>\n",
       "      <th>Total_Charged</th>\n",
       "    </tr>\n",
       "  </thead>\n",
       "  <tbody>\n",
       "    <tr>\n",
       "      <th>0</th>\n",
       "      <td>1380000</td>\n",
       "      <td>No</td>\n",
       "      <td>22080.0</td>\n",
       "      <td>62100.0</td>\n",
       "      <td>75900.0</td>\n",
       "      <td>298080.0</td>\n",
       "    </tr>\n",
       "    <tr>\n",
       "      <th>1</th>\n",
       "      <td>750000</td>\n",
       "      <td>C&amp;C</td>\n",
       "      <td>12000.0</td>\n",
       "      <td>33750.0</td>\n",
       "      <td>41250.0</td>\n",
       "      <td>162000.0</td>\n",
       "    </tr>\n",
       "    <tr>\n",
       "      <th>2</th>\n",
       "      <td>735000</td>\n",
       "      <td>C&amp;C</td>\n",
       "      <td>11760.0</td>\n",
       "      <td>33075.0</td>\n",
       "      <td>40425.0</td>\n",
       "      <td>158760.0</td>\n",
       "    </tr>\n",
       "    <tr>\n",
       "      <th>3</th>\n",
       "      <td>730000</td>\n",
       "      <td>No</td>\n",
       "      <td>11680.0</td>\n",
       "      <td>32850.0</td>\n",
       "      <td>40150.0</td>\n",
       "      <td>157680.0</td>\n",
       "    </tr>\n",
       "    <tr>\n",
       "      <th>4</th>\n",
       "      <td>727000</td>\n",
       "      <td>C&amp;C</td>\n",
       "      <td>11632.0</td>\n",
       "      <td>32715.0</td>\n",
       "      <td>39985.0</td>\n",
       "      <td>157032.0</td>\n",
       "    </tr>\n",
       "  </tbody>\n",
       "</table>\n",
       "</div>"
      ],
      "text/plain": [
       "        RV In a BID already?    Step1    step2    step3  Total_Charged\n",
       "0  1380000                No  22080.0  62100.0  75900.0       298080.0\n",
       "1   750000               C&C  12000.0  33750.0  41250.0       162000.0\n",
       "2   735000               C&C  11760.0  33075.0  40425.0       158760.0\n",
       "3   730000                No  11680.0  32850.0  40150.0       157680.0\n",
       "4   727000               C&C  11632.0  32715.0  39985.0       157032.0"
      ]
     },
     "execution_count": 16,
     "metadata": {},
     "output_type": "execute_result"
    }
   ],
   "source": [
    "df_rv['Step1'] = df_rv['RV']*0.016\n",
    "df_rv['step2'] = df_rv['RV']*0.045\n",
    "df_rv['step3'] = df_rv['RV']*0.055\n",
    "df_rv['Total_Charged'] = df_rv['Step1'] + df_rv['step2'] + df_rv['step2'] + df_rv['step3'] + df_rv['step3']\n",
    "df_rv.head()"
   ]
  },
  {
   "cell_type": "code",
   "execution_count": 17,
   "id": "fa762484",
   "metadata": {},
   "outputs": [
    {
     "data": {
      "text/html": [
       "<div>\n",
       "<style scoped>\n",
       "    .dataframe tbody tr th:only-of-type {\n",
       "        vertical-align: middle;\n",
       "    }\n",
       "\n",
       "    .dataframe tbody tr th {\n",
       "        vertical-align: top;\n",
       "    }\n",
       "\n",
       "    .dataframe thead th {\n",
       "        text-align: right;\n",
       "    }\n",
       "</style>\n",
       "<table border=\"1\" class=\"dataframe\">\n",
       "  <thead>\n",
       "    <tr style=\"text-align: right;\">\n",
       "      <th></th>\n",
       "      <th>RV</th>\n",
       "      <th>In a BID already?</th>\n",
       "      <th>Step1</th>\n",
       "      <th>step2</th>\n",
       "      <th>step3</th>\n",
       "      <th>Total_Charged</th>\n",
       "      <th>year1</th>\n",
       "      <th>year2</th>\n",
       "      <th>year3</th>\n",
       "      <th>year4</th>\n",
       "      <th>year5</th>\n",
       "    </tr>\n",
       "  </thead>\n",
       "  <tbody>\n",
       "    <tr>\n",
       "      <th>0</th>\n",
       "      <td>1380000</td>\n",
       "      <td>No</td>\n",
       "      <td>22080.0</td>\n",
       "      <td>62100.0</td>\n",
       "      <td>75900.0</td>\n",
       "      <td>298080.0</td>\n",
       "      <td>22080.0</td>\n",
       "      <td>62100.0</td>\n",
       "      <td>62100.0</td>\n",
       "      <td>75900.0</td>\n",
       "      <td>75900.0</td>\n",
       "    </tr>\n",
       "    <tr>\n",
       "      <th>1</th>\n",
       "      <td>750000</td>\n",
       "      <td>C&amp;C</td>\n",
       "      <td>12000.0</td>\n",
       "      <td>33750.0</td>\n",
       "      <td>41250.0</td>\n",
       "      <td>162000.0</td>\n",
       "      <td>12000.0</td>\n",
       "      <td>33750.0</td>\n",
       "      <td>33750.0</td>\n",
       "      <td>41250.0</td>\n",
       "      <td>41250.0</td>\n",
       "    </tr>\n",
       "    <tr>\n",
       "      <th>2</th>\n",
       "      <td>735000</td>\n",
       "      <td>C&amp;C</td>\n",
       "      <td>11760.0</td>\n",
       "      <td>33075.0</td>\n",
       "      <td>40425.0</td>\n",
       "      <td>158760.0</td>\n",
       "      <td>11760.0</td>\n",
       "      <td>33075.0</td>\n",
       "      <td>33075.0</td>\n",
       "      <td>40425.0</td>\n",
       "      <td>40425.0</td>\n",
       "    </tr>\n",
       "    <tr>\n",
       "      <th>3</th>\n",
       "      <td>730000</td>\n",
       "      <td>No</td>\n",
       "      <td>11680.0</td>\n",
       "      <td>32850.0</td>\n",
       "      <td>40150.0</td>\n",
       "      <td>157680.0</td>\n",
       "      <td>11680.0</td>\n",
       "      <td>32850.0</td>\n",
       "      <td>32850.0</td>\n",
       "      <td>40150.0</td>\n",
       "      <td>40150.0</td>\n",
       "    </tr>\n",
       "    <tr>\n",
       "      <th>4</th>\n",
       "      <td>727000</td>\n",
       "      <td>C&amp;C</td>\n",
       "      <td>11632.0</td>\n",
       "      <td>32715.0</td>\n",
       "      <td>39985.0</td>\n",
       "      <td>157032.0</td>\n",
       "      <td>11632.0</td>\n",
       "      <td>32715.0</td>\n",
       "      <td>32715.0</td>\n",
       "      <td>39985.0</td>\n",
       "      <td>39985.0</td>\n",
       "    </tr>\n",
       "  </tbody>\n",
       "</table>\n",
       "</div>"
      ],
      "text/plain": [
       "        RV In a BID already?    Step1    step2    step3  Total_Charged  \\\n",
       "0  1380000                No  22080.0  62100.0  75900.0       298080.0   \n",
       "1   750000               C&C  12000.0  33750.0  41250.0       162000.0   \n",
       "2   735000               C&C  11760.0  33075.0  40425.0       158760.0   \n",
       "3   730000                No  11680.0  32850.0  40150.0       157680.0   \n",
       "4   727000               C&C  11632.0  32715.0  39985.0       157032.0   \n",
       "\n",
       "     year1    year2    year3    year4    year5  \n",
       "0  22080.0  62100.0  62100.0  75900.0  75900.0  \n",
       "1  12000.0  33750.0  33750.0  41250.0  41250.0  \n",
       "2  11760.0  33075.0  33075.0  40425.0  40425.0  \n",
       "3  11680.0  32850.0  32850.0  40150.0  40150.0  \n",
       "4  11632.0  32715.0  32715.0  39985.0  39985.0  "
      ]
     },
     "execution_count": 17,
     "metadata": {},
     "output_type": "execute_result"
    }
   ],
   "source": [
    "df_rv['year1'] = df_rv['Step1']\n",
    "df_rv['year2'] = df_rv['step2']\n",
    "df_rv['year3'] = df_rv['step2']\n",
    "df_rv['year4'] = df_rv['step3']\n",
    "df_rv['year5'] = df_rv['step3']\n",
    "df_rv.head()"
   ]
  },
  {
   "cell_type": "code",
   "execution_count": 19,
   "id": "834251ea",
   "metadata": {},
   "outputs": [],
   "source": [
    "#saving df as a excel file \n",
    "rv_analysis_data3 = pd.ExcelWriter('rv_analysis_data3.xlsx')\n",
    "df_rv.to_excel(rv_analysis_data3)\n",
    "rv_analysis_data3.save()"
   ]
  },
  {
   "cell_type": "code",
   "execution_count": null,
   "id": "8b4885d1",
   "metadata": {},
   "outputs": [],
   "source": [
    "#new columns "
   ]
  },
  {
   "cell_type": "code",
   "execution_count": 20,
   "id": "533e14eb",
   "metadata": {},
   "outputs": [],
   "source": [
    "year1 = df_rv.loc[(df_rv['In a BID already?'] == 'C&C') | (df_rv['In a BID already?'] == 'R&L'), 'Step1'].sum()"
   ]
  },
  {
   "cell_type": "code",
   "execution_count": 21,
   "id": "965e9eaf",
   "metadata": {},
   "outputs": [],
   "source": [
    "year2 = df_rv.loc[(df_rv['In a BID already?'] == 'C&C') | (df_rv['In a BID already?'] == 'R&L'), 'step2'].sum() \n",
    "year3 = year2"
   ]
  },
  {
   "cell_type": "code",
   "execution_count": 22,
   "id": "4f173588",
   "metadata": {},
   "outputs": [],
   "source": [
    "year4 = df_rv.loc[(df_rv['In a BID already?'] == 'C&C') | (df_rv['In a BID already?'] == 'R&L'), 'step3'].sum()"
   ]
  },
  {
   "cell_type": "code",
   "execution_count": 23,
   "id": "a7281eb9",
   "metadata": {},
   "outputs": [],
   "source": [
    "year5 = year4"
   ]
  },
  {
   "cell_type": "code",
   "execution_count": 24,
   "id": "9dbb4704",
   "metadata": {},
   "outputs": [
    {
     "data": {
      "text/html": [
       "\n",
       "<div id=\"altair-viz-e07f6946addf43d089131870981ac32e\"></div>\n",
       "<script type=\"text/javascript\">\n",
       "  var VEGA_DEBUG = (typeof VEGA_DEBUG == \"undefined\") ? {} : VEGA_DEBUG;\n",
       "  (function(spec, embedOpt){\n",
       "    let outputDiv = document.currentScript.previousElementSibling;\n",
       "    if (outputDiv.id !== \"altair-viz-e07f6946addf43d089131870981ac32e\") {\n",
       "      outputDiv = document.getElementById(\"altair-viz-e07f6946addf43d089131870981ac32e\");\n",
       "    }\n",
       "    const paths = {\n",
       "      \"vega\": \"https://cdn.jsdelivr.net/npm//vega@5?noext\",\n",
       "      \"vega-lib\": \"https://cdn.jsdelivr.net/npm//vega-lib?noext\",\n",
       "      \"vega-lite\": \"https://cdn.jsdelivr.net/npm//vega-lite@4.17.0?noext\",\n",
       "      \"vega-embed\": \"https://cdn.jsdelivr.net/npm//vega-embed@6?noext\",\n",
       "    };\n",
       "\n",
       "    function maybeLoadScript(lib, version) {\n",
       "      var key = `${lib.replace(\"-\", \"\")}_version`;\n",
       "      return (VEGA_DEBUG[key] == version) ?\n",
       "        Promise.resolve(paths[lib]) :\n",
       "        new Promise(function(resolve, reject) {\n",
       "          var s = document.createElement('script');\n",
       "          document.getElementsByTagName(\"head\")[0].appendChild(s);\n",
       "          s.async = true;\n",
       "          s.onload = () => {\n",
       "            VEGA_DEBUG[key] = version;\n",
       "            return resolve(paths[lib]);\n",
       "          };\n",
       "          s.onerror = () => reject(`Error loading script: ${paths[lib]}`);\n",
       "          s.src = paths[lib];\n",
       "        });\n",
       "    }\n",
       "\n",
       "    function showError(err) {\n",
       "      outputDiv.innerHTML = `<div class=\"error\" style=\"color:red;\">${err}</div>`;\n",
       "      throw err;\n",
       "    }\n",
       "\n",
       "    function displayChart(vegaEmbed) {\n",
       "      vegaEmbed(outputDiv, spec, embedOpt)\n",
       "        .catch(err => showError(`Javascript Error: ${err.message}<br>This usually means there's a typo in your chart specification. See the javascript console for the full traceback.`));\n",
       "    }\n",
       "\n",
       "    if(typeof define === \"function\" && define.amd) {\n",
       "      requirejs.config({paths});\n",
       "      require([\"vega-embed\"], displayChart, err => showError(`Error loading script: ${err.message}`));\n",
       "    } else {\n",
       "      maybeLoadScript(\"vega\", \"5\")\n",
       "        .then(() => maybeLoadScript(\"vega-lite\", \"4.17.0\"))\n",
       "        .then(() => maybeLoadScript(\"vega-embed\", \"6\"))\n",
       "        .catch(showError)\n",
       "        .then(() => displayChart(vegaEmbed));\n",
       "    }\n",
       "  })({\"config\": {\"view\": {\"continuousWidth\": 400, \"continuousHeight\": 300}}, \"data\": {\"name\": \"data-0cd2e1f00987cf898cf1c0813fef9e9f\"}, \"mark\": \"bar\", \"encoding\": {\"x\": {\"field\": \"Year\", \"type\": \"nominal\"}, \"y\": {\"field\": \"Accure Chargers\", \"type\": \"quantitative\"}}, \"$schema\": \"https://vega.github.io/schema/vega-lite/v4.17.0.json\", \"datasets\": {\"data-0cd2e1f00987cf898cf1c0813fef9e9f\": [{\"Year\": \"Year1\", \"Accure Chargers\": 214592.0}, {\"Year\": \"Year2\", \"Accure Chargers\": 603540.0}, {\"Year\": \"Year3\", \"Accure Chargers\": 603540.0}, {\"Year\": \"Year4\", \"Accure Chargers\": 737660.0}, {\"Year\": \"Year5\", \"Accure Chargers\": 737660.0}]}}, {\"mode\": \"vega-lite\"});\n",
       "</script>"
      ],
      "text/plain": [
       "alt.Chart(...)"
      ]
     },
     "execution_count": 24,
     "metadata": {},
     "output_type": "execute_result"
    }
   ],
   "source": [
    "#data visualisation four\n",
    "source = pd.DataFrame({\n",
    "    'Year': ['Year1', 'Year2', 'Year3', 'Year4', 'Year5'],\n",
    "    'Accure Chargers': [year1, year2, year3, year4, year5]})\n",
    "\n",
    "alt.Chart(source).mark_bar().encode(\n",
    "    x='Year',\n",
    "    y='Accure Chargers'\n",
    ")"
   ]
  },
  {
   "cell_type": "code",
   "execution_count": 25,
   "id": "47217e34",
   "metadata": {},
   "outputs": [
    {
     "data": {
      "text/plain": [
       "2896992.0"
      ]
     },
     "execution_count": 25,
     "metadata": {},
     "output_type": "execute_result"
    }
   ],
   "source": [
    "#Total chargers accumulated in 5 years\n",
    "Total = year1 + year2 + year3 + year4 + year5\n",
    "Total"
   ]
  },
  {
   "cell_type": "code",
   "execution_count": 26,
   "id": "752da983",
   "metadata": {},
   "outputs": [],
   "source": [
    "# payers not in the BID "
   ]
  },
  {
   "cell_type": "code",
   "execution_count": 27,
   "id": "e80383b0",
   "metadata": {},
   "outputs": [],
   "source": [
    "year1_no = df_rv.loc[df_rv['In a BID already?'] == 'No', 'Step1'].sum()\n",
    "year2_no = df_rv.loc[df_rv['In a BID already?'] == 'No', 'step2'].sum()\n",
    "year3_no = year2_no\n",
    "year4_no = df_rv.loc[df_rv['In a BID already?'] == 'No', 'step3'].sum()\n",
    "year5_no = year4_no"
   ]
  },
  {
   "cell_type": "code",
   "execution_count": 28,
   "id": "db144431",
   "metadata": {},
   "outputs": [
    {
     "data": {
      "text/html": [
       "\n",
       "<div id=\"altair-viz-96f723033e524ac3b33bf42908a7710c\"></div>\n",
       "<script type=\"text/javascript\">\n",
       "  var VEGA_DEBUG = (typeof VEGA_DEBUG == \"undefined\") ? {} : VEGA_DEBUG;\n",
       "  (function(spec, embedOpt){\n",
       "    let outputDiv = document.currentScript.previousElementSibling;\n",
       "    if (outputDiv.id !== \"altair-viz-96f723033e524ac3b33bf42908a7710c\") {\n",
       "      outputDiv = document.getElementById(\"altair-viz-96f723033e524ac3b33bf42908a7710c\");\n",
       "    }\n",
       "    const paths = {\n",
       "      \"vega\": \"https://cdn.jsdelivr.net/npm//vega@5?noext\",\n",
       "      \"vega-lib\": \"https://cdn.jsdelivr.net/npm//vega-lib?noext\",\n",
       "      \"vega-lite\": \"https://cdn.jsdelivr.net/npm//vega-lite@4.17.0?noext\",\n",
       "      \"vega-embed\": \"https://cdn.jsdelivr.net/npm//vega-embed@6?noext\",\n",
       "    };\n",
       "\n",
       "    function maybeLoadScript(lib, version) {\n",
       "      var key = `${lib.replace(\"-\", \"\")}_version`;\n",
       "      return (VEGA_DEBUG[key] == version) ?\n",
       "        Promise.resolve(paths[lib]) :\n",
       "        new Promise(function(resolve, reject) {\n",
       "          var s = document.createElement('script');\n",
       "          document.getElementsByTagName(\"head\")[0].appendChild(s);\n",
       "          s.async = true;\n",
       "          s.onload = () => {\n",
       "            VEGA_DEBUG[key] = version;\n",
       "            return resolve(paths[lib]);\n",
       "          };\n",
       "          s.onerror = () => reject(`Error loading script: ${paths[lib]}`);\n",
       "          s.src = paths[lib];\n",
       "        });\n",
       "    }\n",
       "\n",
       "    function showError(err) {\n",
       "      outputDiv.innerHTML = `<div class=\"error\" style=\"color:red;\">${err}</div>`;\n",
       "      throw err;\n",
       "    }\n",
       "\n",
       "    function displayChart(vegaEmbed) {\n",
       "      vegaEmbed(outputDiv, spec, embedOpt)\n",
       "        .catch(err => showError(`Javascript Error: ${err.message}<br>This usually means there's a typo in your chart specification. See the javascript console for the full traceback.`));\n",
       "    }\n",
       "\n",
       "    if(typeof define === \"function\" && define.amd) {\n",
       "      requirejs.config({paths});\n",
       "      require([\"vega-embed\"], displayChart, err => showError(`Error loading script: ${err.message}`));\n",
       "    } else {\n",
       "      maybeLoadScript(\"vega\", \"5\")\n",
       "        .then(() => maybeLoadScript(\"vega-lite\", \"4.17.0\"))\n",
       "        .then(() => maybeLoadScript(\"vega-embed\", \"6\"))\n",
       "        .catch(showError)\n",
       "        .then(() => displayChart(vegaEmbed));\n",
       "    }\n",
       "  })({\"config\": {\"view\": {\"continuousWidth\": 400, \"continuousHeight\": 300}}, \"data\": {\"name\": \"data-43de6bf5195cf8d610b90f99fe9ffc63\"}, \"mark\": \"bar\", \"encoding\": {\"x\": {\"field\": \"Year\", \"type\": \"nominal\"}, \"y\": {\"field\": \"Accure Chargers\", \"type\": \"quantitative\"}}, \"$schema\": \"https://vega.github.io/schema/vega-lite/v4.17.0.json\", \"datasets\": {\"data-43de6bf5195cf8d610b90f99fe9ffc63\": [{\"Year\": \"Year1\", \"Accure Chargers\": 137636.0}, {\"Year\": \"Year2\", \"Accure Chargers\": 387101.25}, {\"Year\": \"Year3\", \"Accure Chargers\": 387101.25}, {\"Year\": \"Year4\", \"Accure Chargers\": 473123.75}, {\"Year\": \"Year5\", \"Accure Chargers\": 473123.75}]}}, {\"mode\": \"vega-lite\"});\n",
       "</script>"
      ],
      "text/plain": [
       "alt.Chart(...)"
      ]
     },
     "execution_count": 28,
     "metadata": {},
     "output_type": "execute_result"
    }
   ],
   "source": [
    "#data visualisation five \n",
    "source = pd.DataFrame({\n",
    "    'Year': ['Year1', 'Year2', 'Year3', 'Year4', 'Year5'],\n",
    "    'Accure Chargers': [year1_no, year2_no, year3_no, year4_no, year5_no]})\n",
    "\n",
    "alt.Chart(source).mark_bar().encode(\n",
    "    x='Year',\n",
    "    y='Accure Chargers'\n",
    ")"
   ]
  },
  {
   "cell_type": "code",
   "execution_count": 29,
   "id": "6f7ddb53",
   "metadata": {},
   "outputs": [
    {
     "data": {
      "text/plain": [
       "1858086.0"
      ]
     },
     "execution_count": 29,
     "metadata": {},
     "output_type": "execute_result"
    }
   ],
   "source": [
    "##Total chargers accumulated in 5 years of non bid payers \n",
    "Total_no = year1_no + year2_no + year3_no + year4_no + year5_no\n",
    "Total_no"
   ]
  },
  {
   "cell_type": "code",
   "execution_count": null,
   "id": "fd605e28",
   "metadata": {},
   "outputs": [],
   "source": []
  }
 ],
 "metadata": {
  "kernelspec": {
   "display_name": "Python 3 (ipykernel)",
   "language": "python",
   "name": "python3"
  },
  "language_info": {
   "codemirror_mode": {
    "name": "ipython",
    "version": 3
   },
   "file_extension": ".py",
   "mimetype": "text/x-python",
   "name": "python",
   "nbconvert_exporter": "python",
   "pygments_lexer": "ipython3",
   "version": "3.9.12"
  }
 },
 "nbformat": 4,
 "nbformat_minor": 5
}
